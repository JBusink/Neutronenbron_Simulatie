{
 "cells": [
  {
   "attachments": {},
   "cell_type": "markdown",
   "metadata": {},
   "source": [
    "### Packages"
   ]
  },
  {
   "cell_type": "code",
   "execution_count": 9,
   "metadata": {},
   "outputs": [],
   "source": [
    "using DataFrames,CairoMakie,Random,LinearAlgebra\n",
    "using StatsBase,LinearAlgebra, Interpolations,Distributions\n",
    "using Dates, Distributed"
   ]
  },
  {
   "cell_type": "code",
   "execution_count": 10,
   "metadata": {},
   "outputs": [
    {
     "name": "stderr",
     "output_type": "stream",
     "text": [
      "WARNING: replacing module SM.\n",
      "WARNING: replacing module NF.\n"
     ]
    }
   ],
   "source": [
    "dir = \"/Users/jbusink/Documents/GitHub/Neutronenbron_Simulatie/\"\n",
    "include(\"/Users/jbusink/Documents/GitHub/Julia Projects/FFT/NDiff/src/light_theme.jl\")\n",
    "include(dir * \"Scripts/Simulation.jl\")\n",
    "include(dir * \"Scripts/Neutron_functions.jl\")\n",
    "using .SM, .NF\n"
   ]
  },
  {
   "attachments": {},
   "cell_type": "markdown",
   "metadata": {},
   "source": [
    "## Cross sections data\n",
    "data from https://wwwndc.jaea.go.jp/ENDF_Graph/"
   ]
  },
  {
   "cell_type": "code",
   "execution_count": null,
   "metadata": {},
   "outputs": [],
   "source": [
    "\n",
    "x = NF.logrange(-5,10,101)\n",
    "\n",
    "fig = Figure(resolution=(800,400))\n",
    "\n",
    "ax = Axis(fig[1, 1], \n",
    "xlabel = L\"E (eV)\", ylabel = L\"\\sigma (m^2)\",\n",
    "limits =(1e-3, 1e7,1e-28,1e-25), \n",
    "yscale=log10,xscale=log10\n",
    "# xticks = 0:2:10,yticks=0.:0.2:0.6,\n",
    ")\n",
    "\n",
    "lines!(x, NF.cross_section_H1_SI.(x); linewidth = 4, label = L\"\\sigma_n(h1)\")\n",
    "axislegend(position = :rt, bgcolor = (:grey90, 0.55))\n",
    "\n",
    "ax = Axis(fig[1,2],\n",
    "xlabel = L\"d (m)\",ylabel=L\"P(d)\",\n",
    "limits = (0.0001,1e0,0.0001,4e2),\n",
    "yscale=log10,\n",
    "# xscale=log10,\n",
    ")\n",
    "lines!(x,(1 ./ NF.MFP(NF.n_protons,NF.cross_section_H1_SI(1e7))) .* exp.(-1 .* x ./ NF.MFP(NF.n_protons,NF.cross_section_H1_SI(1e7)) ),label = L\"10MeV\",linewidth=3)\n",
    "lines!(x,(1 ./ NF.MFP(NF.n_protons,NF.cross_section_H1_SI(1e6))) .* exp.(-1 .* x ./ NF.MFP(NF.n_protons,NF.cross_section_H1_SI(1e6)) ),label = L\"1MeV\",linewidth=3)\n",
    "lines!(x,(1 ./ NF.MFP(NF.n_protons,NF.cross_section_H1_SI(1e5))) .* exp.(-1 .* x ./ NF.MFP(NF.n_protons,NF.cross_section_H1_SI(1e5)) ),label = L\"100keV\",linewidth=3)\n",
    "\n",
    "lines!(x,(1 ./ NF.MFP(NF.n_protons,NF.cross_section_H1_SI(1e4))) .* exp.(-1 .* x ./ NF.MFP(NF.n_protons,NF.cross_section_H1_SI(1e4)) ),label = L\"10keV\")\n",
    "lines!(x,(1 ./ NF.MFP(NF.n_protons,NF.cross_section_H1_SI(1e3))) .* exp.(-1 .* x ./ NF.MFP(NF.n_protons,NF.cross_section_H1_SI(1e3)) ),label = L\"1keV\")\n",
    "lines!(x,(1 ./ NF.MFP(NF.n_protons,NF.cross_section_H1_SI(1e2))) .* exp.(-1 .* x ./ NF.MFP(NF.n_protons,NF.cross_section_H1_SI(1e2)) ),label = L\"100eV\",linewidth=3)\n",
    "\n",
    "axislegend(position = :rt, bgcolor = (:grey90, 0.55));\n",
    "\n",
    "# fig\n",
    "\n"
   ]
  },
  {
   "cell_type": "code",
   "execution_count": null,
   "metadata": {},
   "outputs": [],
   "source": [
    "df_H1nn = NF.read_cross_section_data(dir*\"Data/H1_elastic_scattering_sigma.rtf\")\n",
    "df_H1ngamma = NF.read_cross_section_data(dir*\"Data/H1_fission_sigma.rtf\")\n",
    "df_O16nn = NF.read_cross_section_data(dir*\"Data/O16_elastic_scattering_sigma.rtf\")\n",
    "df_O16ngamma = NF.read_cross_section_data(dir*\"Data/O16_fission_sigma.rtf\")\n",
    "\n",
    "H1MFP(E) = 1000 .* NF.MFP(NF.n_protons,NF.cross_section_interpolated(dir*\"Data/H1_elastic_scattering_sigma.rtf\",E) ./ 1e28)\n",
    "H1(x,E) = (1 ./ H1MFP(E)) .* exp.(-1 .* x ./ H1MFP(E))\n",
    "\n",
    "H1γMFP(E) = 1000 .* NF.MFP(NF.n_protons,NF.cross_section_interpolated(dir*\"Data/H1_fission_sigma.rtf\",E) ./ 1e28)\n",
    "H1γ(x,E) = (1 ./ H1γMFP(E)) .* exp.(-1 .* x ./ H1γMFP(E))\n",
    "\n",
    "O16MFP(E) = 1000 .* NF.MFP(NF.n_oxygen,NF.cross_section_interpolated(dir*\"Data/O16_elastic_scattering_sigma.rtf\",E) ./ 1e28)\n",
    "O16(x,E) = (1 ./ O16MFP(E)) .* exp.(-1 .* x ./ O16MFP(E))\n",
    "\n",
    "O16γMFP(E) = 1000 .* NF.MFP(NF.n_oxygen,NF.cross_section_interpolated(dir*\"Data/O16_fission_sigma.rtf\",E) ./ 1e28)\n",
    "O16γ(x,E) = (1 ./ O16γMFP(E)) .* exp.(-1 .* x ./ O16γMFP(E))\n"
   ]
  },
  {
   "cell_type": "code",
   "execution_count": null,
   "metadata": {},
   "outputs": [],
   "source": [
    "fig = Figure(resolution=(1000,800))\n",
    "axes =Axis(fig[1,1],\n",
    "yscale = log10,xscale=log10,\n",
    "xlabel = L\"Energy (eV)\", ylabel = L\"\\sigma_{n,n/\\gamma}(b)\",\n",
    "xlabelsize=22,ylabelsize=22,\n",
    "title= L\"\\sigma\",titlesize=20,\n",
    "limits=(1e-5,1e7,1e-8,1e3)\n",
    ")\n",
    "\n",
    "lines!(df_H1nn.Energy_ev,df_H1nn.cross_section_b,label = L\"H1(nn)\",linewidth=3)\n",
    "lines!(df_H1ngamma.Energy_ev,df_H1ngamma.cross_section_b,label = L\"H1(n\\gamma)\",linewidth=3)\n",
    "lines!(df_O16nn.Energy_ev,df_O16nn.cross_section_b,label = L\"O16(nn)\",linewidth=3)\n",
    "lines!(df_O16ngamma.Energy_ev,df_O16ngamma.cross_section_b,label = L\"O16(n\\gamma)\",linewidth=3)\n",
    "lines!(x, NF.cross_section_H1_SI.(x) .* 1e28; linewidth = 2, label = L\"\\sigma(E)\",color=:black,linestyle=:dash)\n",
    "\n",
    "axislegend(position = :lb, bgcolor = (:grey90, 0.55));\n",
    "\n",
    "\n",
    "axes =Axis(fig[2,1],\n",
    "yscale = log10,xscale=log10,\n",
    "xlabel = L\"Energy (eV)\", ylabel = L\"\\lambda_{MFP} (mm)\",\n",
    "xlabelsize=22,ylabelsize=22,\n",
    "title= L\"MFP\",titlesize=20,\n",
    "limits=(1e-5,1e7,1e-2,1e10)\n",
    ")\n",
    "\n",
    "lines!(df_H1nn.Energy_ev,1000 ./ (df_H1nn.cross_section_b .* 2 .* NF.n_protons ./ 1e28),label = L\"H1(nn)\",linewidth=3)\n",
    "lines!(df_H1ngamma.Energy_ev,1000 ./ (df_H1ngamma.cross_section_b .* 2 .* NF.n_protons ./ 1e28),label = L\"H1(n\\gamma)\",linewidth=3)\n",
    "lines!(df_O16nn.Energy_ev, 1000 ./ (df_O16nn.cross_section_b .* 1 .* NF.n_protons ./ 1e28),label = L\"O16(nn)\",linewidth=3)\n",
    "lines!(df_O16ngamma.Energy_ev, 1000 ./ (df_O16ngamma.cross_section_b .* 1 .* NF.n_protons ./ 1e28),label = L\"O16(n\\gamma)\",linewidth=3)\n",
    "axislegend(position = :lt, bgcolor = (:grey90, 0.55));\n",
    "\n",
    "\n",
    "ax = Axis(fig[1,2],\n",
    "xlabel = L\"d (mm)\",ylabel=L\"P(d)\",\n",
    "limits = (1e-1,1e4,1e-4,1e0),\n",
    "yscale=log10,xscale=log10,\n",
    "title= L\"H1(nn)\",titlesize=20\n",
    "# xscale=log10,\n",
    ")\n",
    "lines!(x,H1(x,1e7),label = L\"10MeV\",linewidth=3)\n",
    "lines!(x,H1(x,1e6),label = L\"1MeV\",linewidth=3)\n",
    "# lines!(x,(1 ./ (1000 .* NF.MFP(NF.n_protons,NF.cross_section_H1_SI(1e6))) ).* exp.(-1 .* x ./ (1000 .* NF.MFP(NF.n_protons,NF.cross_section_H1_SI(1e6))) ),label = L\"10MeV\",linewidth=1)\n",
    "lines!(x,H1(x,1e5),label = L\"100keV\",linewidth=3)\n",
    "lines!(x,H1(x,1e3),label = L\"1keV\",linewidth=3)\n",
    "lines!(x,H1(x,1e-2),label = L\"10omeV\",linewidth=3)\n",
    "axislegend(position = :rt, bgcolor = (:grey90, 0.55));\n",
    "\n",
    "ax = Axis(fig[1,3],\n",
    "xlabel = L\"d (mm)\",ylabel=L\"P(d)\",\n",
    "limits = (1e-1,1e4,1e-4,1e-1),\n",
    "yscale=log10,xscale = log10,\n",
    "title= L\"O16(nn)\",titlesize=20\n",
    ")\n",
    "\n",
    "lines!(x,O16(x,10e6),label = L\"10MeV\",linewidth=3)\n",
    "lines!(x,O16(x,1e6),label = L\"1MeV (resonance)\",linewidth=3)\n",
    "lines!(x,O16(x,1e5),label = L\"100keV\",linewidth=3)\n",
    "lines!(x,O16(x,1e3),label = L\"1keV\",linewidth=3)\n",
    "lines!(x,O16(x,1e-2),label = L\"100meV\",linewidth=3)\n",
    "\n",
    "axislegend(position = :rt, bgcolor = (:grey90, 0.55));\n",
    "\n",
    "\n",
    "ax = Axis(fig[2,2],\n",
    "xlabel = L\"d (mm)\",ylabel=L\"P(d)\",\n",
    "limits = (1e-0,1e9,1e-8,1e-2),\n",
    "yscale=log10,xscale = log10,\n",
    "title= L\"H1($\\gamma$n)\",titlesize=20\n",
    ")\n",
    "\n",
    "lines!(x,H1γ(x,10e6),label = L\"10MeV\",linewidth=3)\n",
    "lines!(x,H1γ(x,1e6),label = L\"1MeV\",linewidth=3)\n",
    "lines!(x,H1γ(x,1e5),label = L\"100keV\",linewidth=3)\n",
    "lines!(x,H1γ(x,1e3),label = L\"1keV\",linewidth=3)\n",
    "lines!(x,H1γ(x,1e-2),label = L\"100meV\",linewidth=3)\n",
    "\n",
    "axislegend(position = :rt, bgcolor = (:grey90, 0.55));\n",
    "\n",
    "\n",
    "axislegend(position = :rt, bgcolor = (:grey90, 0.55));\n",
    "ax = Axis(fig[2,3],\n",
    "xlabel = L\"d (mm)\",ylabel=L\"P(d)\",\n",
    "limits = (1e-0,1e9,1e-10,1e-5),\n",
    "yscale=log10,xscale = log10,\n",
    "title= L\"O16($\\gamma$n)\",titlesize=20\n",
    ")\n",
    "\n",
    "lines!(x,O16γ(x,10e6),label = L\"10MeV\",linewidth=3)\n",
    "lines!(x,O16γ(x,1e6),label = L\"1MeV\",linewidth=3)\n",
    "lines!(x,O16γ(x,1e5),label = L\"100keV\",linewidth=3)\n",
    "lines!(x,O16γ(x,1e3),label = L\"1keV\",linewidth=3)\n",
    "lines!(x,O16γ(x,1e-2),label = L\"100meV\",linewidth=3)\n",
    "\n",
    "axislegend(position = :lb, bgcolor = (:grey90, 0.55));\n",
    "\n",
    "\n",
    "# fig"
   ]
  },
  {
   "attachments": {},
   "cell_type": "markdown",
   "metadata": {},
   "source": [
    "## Single Collision Random Direction"
   ]
  },
  {
   "cell_type": "code",
   "execution_count": null,
   "metadata": {},
   "outputs": [],
   "source": [
    "Etotal = []\n",
    "E0=1e6\n",
    "Px,Py,Pz = Vector{Float64}(),Vector{Float64}(),Vector{Float64}()\n",
    "\n",
    "for i in 1:1:100000\n",
    "    E0,θ,ϕ =1e6,rand()*π,rand()*2*π\n",
    "    P_initial = sqrt.(2 .* E0) .* SM.unit_vector(θ,ϕ)\n",
    "    # P_initial = sqrt.(2 .* E0) .* Array([0,0,1])\n",
    "    P_initial,E = SM.single_collision_random(P_initial,E0)\n",
    "\n",
    "    push!(Etotal,E)        \n",
    "    append!(Px,P_initial[1])\n",
    "    append!(Py,P_initial[2])\n",
    "    append!(Pz,P_initial[3])\n",
    "end\n",
    "\n",
    "fig = Figure(resolution=(900, 600))\n",
    "ax1 = Axis(fig[1, 1:6],\n",
    ")\n",
    "ax2 = Axis(fig[2:6, 1:6],\n",
    "ylabel = L\"p_y eV^{1/2}\", xlabel = L\"p_x eV^{1/2}\",\n",
    "limits =(-sqrt.(2 .* E0),sqrt.(2 .* E0),-sqrt.(2 .* E0),sqrt.(2 .* E0)), \n",
    ")\n",
    "ax3 = Axis(fig[2:6, 7],\n",
    ")\n",
    "ax4 = Axis(fig[1:6, 8:12], \n",
    "ylabel = L\"P(E_n/E_{n,0})\", xlabel = L\"E_n/E_{n,0}\",\n",
    "limits =(0,1,0,6), \n",
    ")\n",
    "\n",
    "hist!(ax1, Px; bins=101,color=(:orange, 0.5), strokewidth=0.5)\n",
    "scatter!(ax2, Px, Py;markersize=3,strokewidth=0.5,strokecolor=:black,color =:gray)\n",
    "hist!(ax3, Py; bins=101,direction=:x, color=(:dodgerblue, 0.5),strokewidth=0.5)\n",
    "\n",
    "hideydecorations!(ax3, ticks=false, grid=false)\n",
    "hidexdecorations!(ax3, ticks=false, grid=false)\n",
    "hideydecorations!(ax1, ticks=false, grid=false)\n",
    "hidexdecorations!(ax1, ticks=false, grid=false)\n",
    "colgap!(fig.layout, 10)\n",
    "rowgap!(fig.layout, 10);\n",
    "x = LinRange(0,1,1001)\n",
    "α=0.5\n",
    "hist!(ax4,Etotal./E0;bins = 201,strokecolor =:black,strokewidth=0.3,normalization = :pdf)\n",
    "# lines!(ax4,x,(1/π)./(sqrt.(x .* (1 .- x))),color=:black,linewidth=3,Label = L\"Arcsine\")\n",
    "lines!(ax4,x,(1 / π) .* ((x .^ (- α) .* ((1 .- x ) .^ (-α )))) ,color=:black,linewidth=3,Label = L\"Arcsine\")\n",
    "\n",
    "# fig\n",
    "\n",
    "# save(\"Single_collision_statistics.svg\",fig)\n"
   ]
  },
  {
   "cell_type": "code",
   "execution_count": null,
   "metadata": {},
   "outputs": [],
   "source": [
    "\n",
    "\n",
    "Elist = NF.logrange(-5,7,1001)\n",
    "fig = Figure(resolution=(500,500))\n",
    "ax = Axis(fig[1,1],\n",
    "limits = (1e-5,1e6,0.98,1.005),\n",
    "xscale=log10,\n",
    "xlabel = L\"Energy (eV)\", ylabel = L\"f_{survival}\"\n",
    ")\n",
    "σHnn,σHnγ=NF.cross_section_interpolated(dir*\"Data/H1_elastic_scattering_sigma.rtf\", E),NF.cross_section_interpolated(dir*\"Data/H1_fission_sigma.rtf\", E)\n",
    "σtotal = σHnn+σHnγ\n",
    "lines!(Elist,NF.cross_section_interpolated(dir*\"Data/H1_elastic_scattering_sigma.rtf\", Elist) ./\n",
    "( NF.cross_section_interpolated(dir*\"Data/H1_elastic_scattering_sigma.rtf\", Elist) .+ NF.cross_section_interpolated(dir*\"Data/H1_fission_sigma.rtf\", Elist)), label = L\"$σH1nn/σ_{total}$\" )\n",
    "lines!(Elist,(2 .* NF.cross_section_interpolated(dir*\"Data/H1_elastic_scattering_sigma.rtf\", Elist) .+ NF.cross_section_interpolated(dir*\"Data/O16_elastic_scattering_sigma.rtf\",Elist)) ./\n",
    "(2 .* NF.cross_section_interpolated(dir*\"Data/H1_elastic_scattering_sigma.rtf\", Elist) .+ 2 .* NF.cross_section_interpolated(dir*\"Data/H1_fission_sigma.rtf\", Elist) \n",
    ".+ NF.cross_section_interpolated(dir*\"Data/O16_elastic_scattering_sigma.rtf\",Elist) .+ NF.cross_section_interpolated(dir*\"Data/O16_fission_sigma.rtf\",Elist)), label = L\"$(σH1nn+σO16nn)/σ_{total}$\" )\n",
    "axislegend(position = :lt, bgcolor = (:grey90, 0.55));\n",
    "\n",
    "fig"
   ]
  },
  {
   "attachments": {},
   "cell_type": "markdown",
   "metadata": {},
   "source": [
    "## Multiple Collision Random Direction"
   ]
  },
  {
   "cell_type": "code",
   "execution_count": 157,
   "metadata": {},
   "outputs": [
    {
     "name": "stdout",
     "output_type": "stream",
     "text": [
      "10000\n",
      "Free momory: 0.06121826171875\n",
      "Local Time: 19:49:20\n"
     ]
    },
    {
     "name": "stdout",
     "output_type": "stream",
     "text": [
      "20000\n",
      "Free momory: 0.0555877685546875\n",
      "Local Time: 19:50:07\n"
     ]
    },
    {
     "name": "stdout",
     "output_type": "stream",
     "text": [
      "30000\n",
      "Free momory: 0.048004150390625\n",
      "Local Time: 19:50:55\n"
     ]
    },
    {
     "name": "stdout",
     "output_type": "stream",
     "text": [
      "40000\n",
      "Free momory: 0.0556640625\n",
      "Local Time: 19:51:46\n"
     ]
    },
    {
     "name": "stdout",
     "output_type": "stream",
     "text": [
      "50000\n",
      "Free momory: 0.0698699951171875\n",
      "Local Time: 19:52:38\n"
     ]
    },
    {
     "name": "stdout",
     "output_type": "stream",
     "text": [
      "60000\n",
      "Free momory: 0.10211181640625\n",
      "Local Time: 19:53:34\n"
     ]
    },
    {
     "name": "stdout",
     "output_type": "stream",
     "text": [
      "70000\n",
      "Free momory: 0.0579376220703125\n",
      "Local Time: 19:54:47\n"
     ]
    },
    {
     "name": "stdout",
     "output_type": "stream",
     "text": [
      "80000\n",
      "Free momory: 0.0535430908203125\n",
      "Local Time: 19:56:04\n"
     ]
    },
    {
     "name": "stdout",
     "output_type": "stream",
     "text": [
      "90000\n",
      "Free momory: 0.0537261962890625\n",
      "Local Time: 19:57:23\n"
     ]
    },
    {
     "name": "stdout",
     "output_type": "stream",
     "text": [
      "100000\n",
      "Free momory: 0.0623779296875\n",
      "Local Time: 19:58:44\n"
     ]
    },
    {
     "name": "stdout",
     "output_type": "stream",
     "text": [
      "10000\n",
      "Free momory: 0.04132080078125\n",
      "Local Time: 20:00:58\n"
     ]
    },
    {
     "name": "stdout",
     "output_type": "stream",
     "text": [
      "20000\n",
      "Free momory: 0.0570068359375\n",
      "Local Time: 20:02:10\n"
     ]
    },
    {
     "name": "stdout",
     "output_type": "stream",
     "text": [
      "30000\n",
      "Free momory: 0.0438385009765625\n",
      "Local Time: 20:03:26\n"
     ]
    },
    {
     "name": "stdout",
     "output_type": "stream",
     "text": [
      "40000\n",
      "Free momory: 0.0476837158203125\n",
      "Local Time: 20:04:48\n"
     ]
    },
    {
     "name": "stdout",
     "output_type": "stream",
     "text": [
      "50000\n",
      "Free momory: 0.0686492919921875\n",
      "Local Time: 20:06:19\n"
     ]
    },
    {
     "name": "stdout",
     "output_type": "stream",
     "text": [
      "60000\n",
      "Free momory: 0.04278564453125\n",
      "Local Time: 20:07:53\n"
     ]
    },
    {
     "name": "stdout",
     "output_type": "stream",
     "text": [
      "70000\n",
      "Free momory: 0.0507049560546875\n",
      "Local Time: 20:09:33\n"
     ]
    },
    {
     "name": "stdout",
     "output_type": "stream",
     "text": [
      "80000\n",
      "Free momory: 0.0732421875\n",
      "Local Time: 20:11:19\n"
     ]
    },
    {
     "name": "stdout",
     "output_type": "stream",
     "text": [
      "90000\n",
      "Free momory: 0.0500640869140625\n",
      "Local Time: 20:13:02\n"
     ]
    },
    {
     "name": "stdout",
     "output_type": "stream",
     "text": [
      "100000\n",
      "Free momory: 0.0393829345703125\n",
      "Local Time: 20:14:58\n"
     ]
    },
    {
     "name": "stdout",
     "output_type": "stream",
     "text": [
      "10000\n",
      "Free momory: 0.034912109375\n",
      "Local Time: 20:17:27\n"
     ]
    },
    {
     "name": "stdout",
     "output_type": "stream",
     "text": [
      "20000\n",
      "Free momory: 0.046478271484375\n",
      "Local Time: 20:18:44\n"
     ]
    },
    {
     "name": "stdout",
     "output_type": "stream",
     "text": [
      "30000\n",
      "Free momory: 0.043487548828125\n",
      "Local Time: 20:20:03\n"
     ]
    },
    {
     "name": "stdout",
     "output_type": "stream",
     "text": [
      "40000\n",
      "Free momory: 0.03387451171875\n",
      "Local Time: 20:21:34\n"
     ]
    },
    {
     "name": "stdout",
     "output_type": "stream",
     "text": [
      "50000\n",
      "Free momory: 0.0540771484375\n",
      "Local Time: 20:23:03\n"
     ]
    },
    {
     "name": "stdout",
     "output_type": "stream",
     "text": [
      "60000\n",
      "Free momory: 0.0501708984375\n",
      "Local Time: 20:24:41\n"
     ]
    },
    {
     "name": "stdout",
     "output_type": "stream",
     "text": [
      "70000\n",
      "Free momory: 0.041259765625\n",
      "Local Time: 20:26:25\n"
     ]
    },
    {
     "name": "stdout",
     "output_type": "stream",
     "text": [
      "80000\n",
      "Free momory: 0.05645751953125\n",
      "Local Time: 20:28:15\n"
     ]
    },
    {
     "name": "stdout",
     "output_type": "stream",
     "text": [
      "90000\n",
      "Free momory: 0.0536956787109375\n",
      "Local Time: 20:30:09\n"
     ]
    },
    {
     "name": "stdout",
     "output_type": "stream",
     "text": [
      "100000\n",
      "Free momory: 0.0484161376953125\n",
      "Local Time: 20:31:59\n"
     ]
    },
    {
     "name": "stdout",
     "output_type": "stream",
     "text": [
      "10000\n",
      "Free momory: 0.0718536376953125\n",
      "Local Time: 20:34:24\n"
     ]
    },
    {
     "name": "stdout",
     "output_type": "stream",
     "text": [
      "20000\n",
      "Free momory: 0.0495452880859375\n",
      "Local Time: 20:35:37\n"
     ]
    },
    {
     "name": "stdout",
     "output_type": "stream",
     "text": [
      "30000\n",
      "Free momory: 0.055084228515625\n",
      "Local Time: 20:36:53\n"
     ]
    },
    {
     "name": "stdout",
     "output_type": "stream",
     "text": [
      "40000\n",
      "Free momory: 0.0420074462890625\n",
      "Local Time: 20:38:15\n"
     ]
    },
    {
     "name": "stdout",
     "output_type": "stream",
     "text": [
      "50000\n",
      "Free momory: 0.0532073974609375\n",
      "Local Time: 20:39:47\n"
     ]
    },
    {
     "name": "stdout",
     "output_type": "stream",
     "text": [
      "60000\n",
      "Free momory: 0.0666046142578125\n",
      "Local Time: 20:41:22\n"
     ]
    },
    {
     "name": "stdout",
     "output_type": "stream",
     "text": [
      "70000\n",
      "Free momory: 0.0313873291015625\n",
      "Local Time: 20:43:01\n"
     ]
    }
   ],
   "source": [
    "for i in 11:1:20\n",
    "    Xtotal,Ytotal,Ztotal,Etotal,Pxtotal,Pytotal,Pztotal = SM.Simulate_multiple_collisions(100000,500)\n",
    "    data = Array([Xtotal,Ytotal,Ztotal,Etotal,Pxtotal,Pytotal,Pztotal])\n",
    "    save(\"Simulate_1000000_Particles_data_file$i.jld\", \"data\", data)\n",
    "end"
   ]
  },
  {
   "cell_type": "code",
   "execution_count": 155,
   "metadata": {},
   "outputs": [],
   "source": [
    "using JLD\n",
    "data = Array([Xtotal,Ytotal,Ztotal,Etotal,Pxtotal,Pytotal,Pztotal])\n",
    "save(\"Simulate_1000000_Particles_data_file2.jld\", \"data\", data)\n",
    "# x,y,z,E,px,py,pz = load(\"Simulate_1000000_Particles_data_file1.jld\")[\"data\"]"
   ]
  },
  {
   "cell_type": "code",
   "execution_count": 14,
   "metadata": {},
   "outputs": [],
   "source": [
    "dict_energy=Dict()\n",
    "dict_x,dict_y,dict_z = Dict(),Dict(),Dict()\n",
    "dict_px,dict_py,dict_pz = Dict(),Dict(),Dict()\n",
    "\n",
    "for k in 1:1:501\n",
    "    dict_energy[k] = [Etotal[i][k] for i in 1:1:length(Etotal)]\n",
    "    dict_x[k] = [Xtotal[i][k] for i in 1:1:length(Xtotal)]\n",
    "    dict_y[k] = [Ytotal[i][k] for i in 1:1:length(Ytotal)]\n",
    "    dict_z[k] = [Ztotal[i][k] for i in 1:1:length(Ztotal)]\n",
    "    # dict_px[k] = [Pxtotal[i][k] for i in 1:1:length(Pxtotal)]\n",
    "    # dict_py[k] = [Pytotal[i][k] for i in 1:1:length(Pytotal)]\n",
    "    # dict_pz[k] = [Pztotal[i][k] for i in 1:1:length(Pztotal)]\n",
    "end"
   ]
  },
  {
   "cell_type": "code",
   "execution_count": 63,
   "metadata": {},
   "outputs": [
    {
     "data": {
      "text/plain": [
       "CairoScreen{Cairo.CairoSurfaceIOStream{UInt32}} with surface:\n",
       "Cairo.CairoSurfaceIOStream{UInt32}(Ptr{Nothing} @0x00000001092074f0, 600.0, 375.0, IOContext(IOStream(<file /Users/jbusink/Documents/GitHub/Neutronenbron_Simulatie/Scripts/fraction_distance_travelled_r_rho.pdf>)))\n"
      ]
     },
     "metadata": {},
     "output_type": "display_data"
    }
   ],
   "source": [
    "dict_dis_ρ = Dict()\n",
    "dict_dis_r = Dict()\n",
    "collision_list = Array([1,2,5,10,500])\n",
    "alpha_list = Array([1,0.9,0.8,0.7,0.5])\n",
    "for i in collision_list\n",
    "    ρ = sqrt.(dict_x[i].^2 .+ dict_y[i].^2 .+ dict_z[i].^2)\n",
    "    r = sqrt.(dict_x[i].^2 .+ dict_y[i].^2)\n",
    "    dict_dis_ρ[i] = [length(ρ[ρ .> j])/length(ρ) for j in 0.1:0.1:100]\n",
    "    dict_dis_r[i] = [length(r[r .> j])/length(r) for j in 0.1:0.1:100]\n",
    "end\n",
    "\n",
    "fig = Figure(resolution=(800,500))\n",
    "ax = Axis(fig[2:5,2],\n",
    "ylabel = L\"f\",xlabel =L\"ρ (cm)\",\n",
    "limits = (0,60,0.001,1),\n",
    "yscale=log10\n",
    ")\n",
    "# vlines!(ax,[15,28], color = :red,linestyle=:dash,linewidth = 1)\n",
    "\n",
    "for i in 1:1:5\n",
    "    lines!(0.1:0.1:100,dict_dis_ρ[collision_list[i]] .+ 1e-5, color= (:black,alpha_list[i]),linewidth = 2, label = string(collision_list[i]))\n",
    "end\n",
    "axislegend(\"Collision #\",position = :rt, bgcolor = (:grey90, 0.55));\n",
    "\n",
    "ax = Axis(fig[2:5,1],\n",
    "ylabel = L\"f\",xlabel =L\"r (cm)\",\n",
    "limits = (0,60,0.001,1),\n",
    "yscale=log10\n",
    "\n",
    ")\n",
    "vlines!(ax,[15,28], color = :dodgerblue,linestyle=:dash,linewidth = 1.5)\n",
    "for i in 1:1:5\n",
    "    lines!(0.1:0.1:100,dict_dis_r[collision_list[i]] .+ 1e-5, color= (:black,alpha_list[i]),linewidth = 2, label = string(collision_list[i]))\n",
    "end\n",
    "axislegend(\"Collision #\",position = :rt, bgcolor = (:grey90, 0.55));\n",
    "\n",
    "ax = Axis(fig[1,1],\n",
    "ylabel = L\"r (cm)\",xlabel =L\"Collision #\",\n",
    "limits = (1,500,0,20),\n",
    "xscale=log10\n",
    ")\n",
    "lines!(1:1:501,mean_r,label = L\"M(r)\")\n",
    "lines!(1:1:501,median_r,label = L\"Mdn(r)\")\n",
    "# axislegend(position = :rb, bgcolor = (:grey90, 0.55));\n",
    "\n",
    "ax = Axis(fig[1,2],\n",
    "ylabel = L\"ρ (cm)\",xlabel =L\"Collision #\",\n",
    "limits = (1,500,0,30),\n",
    "# yscale=log10,\n",
    "xscale=log10,\n",
    ")\n",
    "lines!(1:1:501,mean_ρ,label = L\"M(r)\")\n",
    "lines!(1:1:501,median_ρ,label = L\"Mdn(r)\")\n",
    "# axislegend(position = :rb, bgcolor = (:grey90, 0.55));\n",
    "\n",
    "\n",
    "fig\n",
    "\n",
    "# save(\"fraction_distance_travelled_r_rho.pdf\",fig)"
   ]
  },
  {
   "cell_type": "code",
   "execution_count": 62,
   "metadata": {},
   "outputs": [
    {
     "data": {
      "text/plain": [
       "0.1067"
      ]
     },
     "metadata": {},
     "output_type": "display_data"
    }
   ],
   "source": [
    "mean_r = [mean(sqrt.(dict_x[i].^2 .+ dict_y[i].^2)) for i in 1:1:501]\n",
    "median_r = [median(sqrt.(dict_x[i].^2 .+ dict_y[i].^2)) for i in 1:1:501]\n",
    "\n",
    "mean_ρ = [mean(sqrt.(dict_x[i].^2 .+ dict_y[i].^2 .+ dict_z[i].^2)) for i in 1:1:501]\n",
    "median_ρ = [median(sqrt.(dict_x[i].^2 .+ dict_y[i].^2 .+ dict_z[i].^2)) for i in 1:1:501]\n",
    "\n",
    "r = sqrt.(dict_x[501].^2 .+ dict_y[501].^2)\n",
    "\n",
    "length(r[r .> 28])/length(r)"
   ]
  },
  {
   "cell_type": "code",
   "execution_count": null,
   "metadata": {},
   "outputs": [],
   "source": [
    "fig = Figure(resolution=(800,400))\n",
    "ax = Axis(fig[1,1],\n",
    "xlabel = L\"$ρ (cm)$\",ylabel = L\"P(ρ)\",\n",
    "limits = (1e-1,100,0,0.1),\n",
    "xscale = log10,\n",
    ")\n",
    "# hist!(sqrt.(dict_x[1].^2 .+ dict_y[1].^2 .+ dict_z[1].^2),bins = NF.logrange(-2,2,201),normalization=:pdf)\n",
    "hist!(sqrt.(dict_x[2].^2 .+ dict_y[2].^2 .+ dict_z[2].^2),bins = NF.logrange(-2,2,201),normalization=:pdf)\n",
    "hist!(sqrt.(dict_x[3].^2 .+ dict_y[3].^2 .+ dict_z[3].^2),bins = NF.logrange(-2,2,201),normalization=:pdf)\n",
    "hist!(sqrt.(dict_x[4].^2 .+ dict_y[4].^2 .+ dict_z[4].^2),bins = NF.logrange(-2,2,201),normalization=:pdf)\n",
    "hist!(sqrt.(dict_x[5].^2 .+ dict_y[5].^2 .+ dict_z[5].^2),bins = NF.logrange(-2,2,201),normalization=:pdf)\n",
    "\n",
    "ax = Axis(fig[2,1],\n",
    "xlabel = L\"$ρ (cm)$\",ylabel = L\"P(ρ)\",\n",
    "# limits = (1e-1,100,0,0.1),\n",
    "xscale = log10,\n",
    ")\n",
    "\n",
    "hist!(sqrt.(dict_x[101].^2 .+ dict_y[101].^2 .+ dict_z[101].^2),bins = NF.logrange(-2,2,201),normalization=:pdf)\n",
    "hist!(sqrt.(dict_x[201].^2 .+ dict_y[201].^2 .+ dict_z[201].^2),bins = NF.logrange(-2,2,201),normalization=:pdf)\n",
    "hist!(sqrt.(dict_x[301].^2 .+ dict_y[301].^2 .+ dict_z[301].^2),bins = NF.logrange(-2,2,201),normalization=:pdf)\n",
    "hist!(sqrt.(dict_x[401].^2 .+ dict_y[401].^2 .+ dict_z[401].^2),bins = NF.logrange(-2,2,201),normalization=:pdf)\n",
    "hist!(sqrt.(dict_x[501].^2 .+ dict_y[501].^2 .+ dict_z[501].^2),bins = NF.logrange(-2,2,201),normalization=:pdf)\n",
    "\n",
    "ax = Axis(fig[1,2],\n",
    "xlabel = L\"$r (cm)$\",ylabel = L\"P(r)\",\n",
    "limits = (1e-2,100,0,0.2),\n",
    "xscale = log10,\n",
    ")\n",
    "hist!(sqrt.(dict_x[1].^2 .+ dict_y[1].^2 ),bins = NF.logrange(-2,2,101),normalization=:pdf)\n",
    "hist!(sqrt.(dict_x[2].^2 .+ dict_y[2].^2 ),bins = NF.logrange(-2,2,101),normalization=:pdf)\n",
    "hist!(sqrt.(dict_x[3].^2 .+ dict_y[3].^2 ),bins = NF.logrange(-2,2,101),normalization=:pdf)\n",
    "hist!(sqrt.(dict_x[4].^2 .+ dict_y[4].^2 ),bins = NF.logrange(-2,2,101),normalization=:pdf)\n",
    "hist!(sqrt.(dict_x[5].^2 .+ dict_y[5].^2 ),bins = NF.logrange(-2,2,101),normalization=:pdf)\n",
    "\n",
    "ax = Axis(fig[2,2],\n",
    "xlabel = L\"$r (cm)$\",ylabel = L\"P(r)\",\n",
    "# limits = (1e-2,100,0,0.2),\n",
    "xscale = log10,\n",
    ")\n",
    "hist!(sqrt.(dict_x[101].^2 .+ dict_y[101].^2 ),bins = NF.logrange(-2,2,101),normalization=:pdf)\n",
    "hist!(sqrt.(dict_x[201].^2 .+ dict_y[201].^2 ),bins = NF.logrange(-2,2,101),normalization=:pdf)\n",
    "hist!(sqrt.(dict_x[301].^2 .+ dict_y[301].^2 ),bins = NF.logrange(-2,2,101),normalization=:pdf)\n",
    "hist!(sqrt.(dict_x[401].^2 .+ dict_y[401].^2 ),bins = NF.logrange(-2,2,101),normalization=:pdf)\n",
    "hist!(sqrt.(dict_x[501].^2 .+ dict_y[501].^2 ),bins = NF.logrange(-2,2,101),normalization=:pdf)\n",
    "\n",
    "\n",
    "fig\n"
   ]
  },
  {
   "cell_type": "code",
   "execution_count": null,
   "metadata": {},
   "outputs": [],
   "source": [
    "fig = Figure(resolution=(600,600))\n",
    "ax = Axis(fig[1,1],\n",
    "xlabel = L\"$Collision #\",ylabel = L\"ρ (cm)\",\n",
    "limits = (0,500,0,100),\n",
    "# yscale = log10,\n",
    ")\n",
    "# for i in 1:1:500\n",
    "[lines!(LinRange(1,500,501),sqrt.(Xtotal[i].^2 .+ Ytotal[i].^2 .+ Ztotal[i].^2), color = (:black,0.4),linewidth =1) for i in 1:1:50]\n",
    "# [lines!(LinRange(1,500,501),abs.(Pxtotal[i]) .+ 1e-32, color = (:black,0.4),linewidth =1) for i in 1:1:100]\n",
    "\n",
    "# ax = Axis(fig[2,1],\n",
    "# # xlabel = L\"$ρ (cm)$\",ylabel = L\"P(ρ)\",\n",
    "# # limits = (1e-1,100,0,0.1),\n",
    "# yscale = log10,\n",
    "# )\n",
    "# [lines!(LinRange(1,500,501),Etotal[i] .+ 1e-41, color = (:black,0.4),linewidth =1) for i in 1:1:100]\n",
    "\n",
    "fig"
   ]
  },
  {
   "cell_type": "code",
   "execution_count": null,
   "metadata": {},
   "outputs": [],
   "source": [
    "\n",
    "\n",
    "survival_fraction = [length(dict[i][dict[i] .!= 0])/length(dict[i]) for i in 1:1:501]\n",
    "mean_energy = [mean(dict[i][dict[i] .!= 0]) for i in 1:1:501]\n",
    "\n",
    "fig = Figure(resolution = (1000,500))\n",
    "ax = Axis(fig[1,1],\n",
    "xlabel=L\"Collision #\",ylabel = L\"Energy eV\",\n",
    "\n",
    "limits=(0,50,1e-5,1e7),\n",
    "yscale = log10)\n",
    "for i in 1:1:1000\n",
    "    lines!(LinRange(0,500,501), Etotal[i],color=(:black,0.5*rand()),linewidth=0.3)\n",
    "end\n",
    "lines!(LinRange(0,500,501),mean_energy,color=:dodgerblue,linewidth=3)\n",
    "\n",
    "ax = Axis(fig, bbox = BBox(300, 470, 320, 470),\n",
    "xlabel=L\"Collision #\",ylabel = L\"Energy eV\",\n",
    "xticks = [0,250,500],\n",
    "limits=(0,500,1e-5,1e6),\n",
    "yscale = log10)\n",
    "for i in 1:1:500\n",
    "    lines!(LinRange(0,500,501), Etotal[i],color=(:black,0.5*rand()),linewidth=0.1)\n",
    "end\n",
    "lines!(LinRange(0,500,501),mean_energy,color=:dodgerblue,linewidth=1)\n",
    "\n",
    "ax = Axis(fig[1,2],\n",
    "yscale=log10,\n",
    "xlabel=L\"Collision #\",ylabel = L\"$\\langle$$f_{survival}$$\\rangle$\",\n",
    "limits = (1,500,1e-2,1),\n",
    "yticks = [0.01,0.1,1],zorder = -1)\n",
    "lines!(range(0,500,501),survival_fraction,color=:black,linewidth = 3)\n",
    "\n",
    "ax = Axis(fig, bbox = BBox(800, 970, 320, 470),backgroundcolor=(:white),\n",
    "# yscale=log10,\n",
    "xlabel=L\"Collision #\",ylabel = L\"$\\langle$$f_{survival}$$\\rangle$\",\n",
    "limits = (1,20,0.98,1),\n",
    "yticks = [0.98,0.99,1],)\n",
    "lines!(range(0,500,501),survival_fraction,color=:black,linewidth = 3)\n",
    "\n",
    "fig\n",
    "\n",
    "# save(\"Energy_trajectories_survival_chance_500_collisions.pdf\",fig)"
   ]
  },
  {
   "cell_type": "code",
   "execution_count": null,
   "metadata": {},
   "outputs": [],
   "source": [
    "total_distance = [sum(NF.random_distance_trav.(Etotal[i])) for i in 1:1:10000]\n",
    "fig = Figure(resolution = (400,400))\n",
    "ax = Axis(fig[1,1],\n",
    ")\n",
    "hist!(total_distance,bins=101)\n",
    "fig"
   ]
  },
  {
   "cell_type": "code",
   "execution_count": null,
   "metadata": {},
   "outputs": [],
   "source": [
    "#code works if particles are not removed\n",
    "fig = Figure(resolution = (1000,600))\n",
    "ax = Axis(fig[2:4,1],\n",
    "xscale=log10,\n",
    "limits=(1e-4,1e6,0,3e4),\n",
    "xlabel = L\"Energy (eV)\", ylabel = L\"P(E)\",\n",
    ")\n",
    "hist!(dict[2],bins=NF.logrange(-6,6,101),label = L\"N = 1\")\n",
    "# hist!(dict[3],bins=NF.logrange(-6,6,101),label = L\"N = 2\")\n",
    "hist!(dict[6],bins=NF.logrange(-6,6,101),label = L\"N = 5\")\n",
    "hist!(dict[11],bins=NF.logrange(-6,6,101),label = L\"N = 10\")\n",
    "hist!(dict[16],bins=NF.logrange(-6,6,101),label = L\"N = 15\")\n",
    "hist!(dict[21],bins=NF.logrange(-6,6,101),label = L\"N = 20\")\n",
    "hist!(dict[31],bins=NF.logrange(-6,6,101),label = L\"N = 30\")\n",
    "axislegend(L\"# collisions\",position = :lt, bgcolor = (:grey90, 0.55));\n",
    "\n",
    "ax = Axis(fig[1,1],\n",
    "xlabel = L\"collision #\", ylabel = L\"$\\langle$E$\\rangle$\",\n",
    "yscale=log10,\n",
    "limits=(1,50,1e-2,1e6)\n",
    ")\n",
    "mean_energy = [mean(dict[i]) for i in 1:1:51]\n",
    "lines!(range(1,50,51),mean_energy)\n",
    "\n",
    "ax = Axis(fig[2:4,2],\n",
    "# xscale=log10,\n",
    "limits=(0.985,1,0,2e4),\n",
    "xlabel = L\"f_{survival}\", ylabel = L\"P(f)\",\n",
    ")\n",
    "hist!(survival_chance(dict[2]),bins=101,label = L\"N = 1\")\n",
    "# hist!(survival_chance(dict[3]),bins=101,label = L\"N = 2\")\n",
    "hist!(survival_chance(dict[6]),bins=101,label = L\"N = 5\")\n",
    "hist!(survival_chance(dict[11]),bins=101,label = L\"N = 10\")\n",
    "hist!(survival_chance(dict[16]),bins=101,label = L\"N = 15\")\n",
    "hist!(survival_chance(dict[21]),bins=101,label = L\"N = 20\")\n",
    "hist!(survival_chance(dict[31]),bins=101,label = L\"N = 30\")\n",
    "axislegend(L\"# collisions\",position = :lt, bgcolor = (:grey90, 0.55));\n",
    "\n",
    "ax = Axis(fig[1,2],\n",
    "xlabel = L\"collision #\", ylabel = L\"$\\langle$f$\\rangle$\",\n",
    "limits=(1,50,0.985,1.005)\n",
    ")\n",
    "mean_survival_chance = [mean(survival_chance(dict[i])) for i in 1:1:51]\n",
    "lines!(range(1,50,51),mean_survival_chance)\n",
    "# åfig \n",
    "\n",
    "# save(\"survival_change_energy_1e6collisions.pdf\",fig)"
   ]
  },
  {
   "cell_type": "code",
   "execution_count": null,
   "metadata": {},
   "outputs": [],
   "source": [
    "# Etotal[1]\n",
    "# NF.random_distance_trav(0)\n",
    "# distancelist = [NF.random_distance_trav.(Etotal[i]) for i in 1:1:2000]\n",
    "# distancelist = vcat(distancelist...)\n",
    "\n",
    "# meanL = mean([NF.random_distance_trav.(Etotal[i][1:1:500]) for i in 1:1:10000])\n",
    "# yerr = std([NF.random_distance_trav.(Etotal[i][1:1:500]) for i in 1:1:10000]) ./ sqrt.(length(Etotal))\n",
    "\n",
    "fig = Figure(resolution = (400,400))\n",
    "ax = Axis(fig[1,1],\n",
    "xlabel = L\"Collision #\",ylabel = L\"$\\langle$l$\\rangle$ (cm)\",\n",
    "# yscale = log10,\n",
    "# limits = (-5,0,0,1000)\n",
    ")\n",
    "# for i in 1:1:100\n",
    "#     lines!(NF.random_distance_trav.(Etotal[i][1:1:500]).*100,color = :black,linewidth= .1)\n",
    "# end\n",
    "# lines!(meanL*100,color = :dodgerblue,linewidth =3)\n",
    "\n",
    "# hist!(log10.(distancelist .+ 1e-12),bins = 10001)\n",
    "\n",
    "fig\n"
   ]
  },
  {
   "cell_type": "code",
   "execution_count": null,
   "metadata": {},
   "outputs": [],
   "source": [
    "# distancelist = [NF.random_distance_trav.(Etotal[i]) for i in 1:1:length(Etotal)]\n",
    "# distance_per_collision = hcat(distancelist...)\n",
    "\n",
    "meanL = mean([NF.random_distance_trav.(Etotal[i][1:1:40]) for i in 1:1:length(Etotal)],dims = 2)\n",
    "\n",
    "\n",
    "# meanL = mean([NF.random_distance_trav.(Etotal[i][1:1:40]) for i in 1:1:length(Etotal)])\n",
    "# yerr = std([NF.random_distance_trav.(Etotal[i][1:1:40]) for i in 1:1:length(Etotal)]) ./ sqrt.(length(Etotal))\n",
    "\n",
    "# fig = Figure(resolution=(500,500))\n",
    "# ax = Axis(fig[1,1],\n",
    "# # limits = (),\n",
    "# xlabel = L\"d (cm)\",ylabel = L\"P(d)\",\n",
    "# )\n",
    "# hist!(distance_per_collision[1],bins=51)\n",
    "# fig\n",
    "\n"
   ]
  },
  {
   "cell_type": "code",
   "execution_count": null,
   "metadata": {},
   "outputs": [],
   "source": [
    "using Distributed,BenchmarkTools\n",
    "# addprocs(2)\n",
    "\n",
    "using SharedArrays\n",
    "using DelimitedFiles\n",
    "\n",
    "@everywhere begin \n",
    "    using DifferentialEquations\n",
    "\n",
    "    tf(x,w) = x*sin(w*x)\n",
    "\n",
    "    function sys!(dv,v,w,t)\n",
    "        dv[1] = w*v[1]\n",
    "        dv[2] = tf(v[1],w)\n",
    "    end\n",
    "\n",
    "    times = LinRange(0.1,2,25)\n",
    "    params = LinRange(0.1,1.2,10000)\n",
    "end\n",
    "\n",
    "sols = SharedArray{Float64,2}((length(times),length(params)))\n",
    "\n",
    "@time @sync @distributed for i=1:length(params)\n",
    "    # println(i)\n",
    "    init_val = [1.0,1.0]\n",
    "    tspan = (0.0,2.0)\n",
    "    prob = ODEProblem(sys!,init_val,tspan,params[i])\n",
    "    sol = solve(prob)\n",
    "    sols[:,i] .= sol(times)[2,:]\n",
    "end\n",
    "\n",
    "# sols"
   ]
  },
  {
   "cell_type": "code",
   "execution_count": null,
   "metadata": {},
   "outputs": [],
   "source": [
    "E0,θ,ϕ =1e6,rand()*π,rand()*2*π\n",
    "P_initial = sqrt.(2 .* E0) .* SM.unit_vector(θ,ϕ)\n",
    "E,Px,Py,Pz = SM.multiple_collision_random(P_initial,E0,500,1)\n",
    "\n",
    "distance =  NF.random_distance_trav.(E) .* 100\n",
    "normlist = [norm(permutedims(Array([Px Py Pz]))[1:3,i]) for i in 1:1:length(Pz)] .+ 1e-20\n",
    "Δx =  Px .* distance ./ normlist\n",
    "Δy =  Py .* distance ./ normlist\n",
    "Δz =  Pz .* distance ./ normlist\n",
    "x,y,z = cumsum(Δx), cumsum(Δy), cumsum(Δz)\n",
    "\n",
    "\n",
    "println(length(x),length(E),length(Px))\n",
    "# pvector = Array([Px,Py,Pz])\n",
    "# rold = Array([0.1,0.1,0.2])\n",
    "# position(pvector,rold,E)\n",
    "\n",
    "# println(Px)\n",
    "# println(pvector)"
   ]
  },
  {
   "cell_type": "code",
   "execution_count": null,
   "metadata": {},
   "outputs": [],
   "source": [
    "\n",
    "fig = Figure(resolution = (500,500))\n",
    "ax  = Axis(fig[1,1])\n",
    "lines!(cumsum(Δx))\n",
    "lines!(cumsum(Δy))\n",
    "lines!(cumsum(Δz))\n",
    "# lines!(Px ./ normlist)\n",
    "# lines!(Δz)\n",
    "fig\n",
    "\n",
    "# mean(Δx)"
   ]
  },
  {
   "cell_type": "code",
   "execution_count": null,
   "metadata": {},
   "outputs": [],
   "source": []
  },
  {
   "attachments": {},
   "cell_type": "markdown",
   "metadata": {},
   "source": [
    "### Single Collision Momentum space"
   ]
  },
  {
   "cell_type": "code",
   "execution_count": null,
   "metadata": {},
   "outputs": [],
   "source": [
    "\n",
    "fig = Figure(resolution = (800, 400))\n",
    "ax1 = Axis(fig[1, 1], \n",
    "# ylabel = L\"E_n/E_{n,0}\", xlabel = L\"Collision #\",\n",
    "# limits =(0, 20,1e-12,1), \n",
    ")\n",
    "\n",
    "ax2 = Axis(fig[1, 2], \n",
    "# ylabel = L\"E_n/E_{n,0}\", xlabel = L\"Collision #\",\n",
    "limits =(-0.025,0.025, -0.025,0.025), \n",
    ")\n",
    "\n",
    "for i in 1:1:100\n",
    "    E0,θ,ϕ =1e6,rand()*π,rand()*2*π\n",
    "    P_initial = sqrt.(2 .* E0) .* SM.unit_vector(θ,ϕ)\n",
    "    # P_initial = sqrt.(2 .* E0) .* Array([0,0,1])\n",
    "    E,Px,Py,Pz,collision_number,thermalization_number = SM.multiple_collision_random(P_initial,E0,40,1)\n",
    "    lines!(ax1,Px,Py,color=(:black,0.5),linewidth=2)\n",
    "    # lines!(ax2,Px,Py,color=(:black,0.5),linewidth=2)\n",
    "\n",
    "end\n",
    "\n",
    "fig"
   ]
  },
  {
   "cell_type": "code",
   "execution_count": null,
   "metadata": {},
   "outputs": [],
   "source": [
    "using Distributions\n",
    "Nav = 6.023*10^23\n",
    "MH20 = 18.01524\n",
    "n_protons = (1e6*0.99820/MH20)*2*Nav #(= protons/m^3)\n",
    "n_oxygen = (1e6*0.99820/MH20)*Nav #(= protons/m^3)\n",
    "\n",
    "function MFP(n,Energy)\n",
    "    sigma = cross_section_H1_SI.(Energy)\n",
    "    return (1/(n .* sigma))\n",
    "end\n",
    "\n",
    "function MFP(Energy)\n",
    "    n_protons = (1e6*0.99820/MH20)*2*Nav #(= protons/m^3)\n",
    "    # println(MFP(n_protons,Energy))\n",
    "    \n",
    "    d = Exponential(MFP(n_protons,Energy))\n",
    "    rng = rand(d)\n",
    "    println(rng)\n",
    "    return rng\n",
    "end\n",
    "\n",
    "\n",
    "\n",
    "\n",
    "\n",
    "\n",
    "# fig = Figure(resolution = (500,500))\n",
    "# x = logrange(-2,6,101)\n",
    "# ax = Axis(fig[1,1])\n",
    "# lines!(x,MFP.(x))\n",
    "# fig\n",
    "\n",
    "pvector = [1,1,10]\n",
    "rold = [1,2,3.]\n",
    "Energy = 1e6\n",
    "\n",
    "println(position(pvector,rold,Energy))\n"
   ]
  },
  {
   "cell_type": "code",
   "execution_count": null,
   "metadata": {},
   "outputs": [],
   "source": [
    "using GLMakie\n",
    "using FileIO\n",
    "import AbstractPlotting as AP\n",
    "\n",
    "GLMakie.activate!()\n",
    "GLMakie.closeall()\n",
    "\n",
    "\n",
    "\n",
    "\n",
    "f = Figure(resolution = (1200,800))\n",
    "\n",
    "\n",
    "\n",
    "ax = Axis3(f[1, 1], aspect = (1,1,1),\n",
    "protrusions = (50, 50, 50, 50),\n",
    "xlabelsize=36, ylabelsize=36,zlabelsize=36,\n",
    "ylabel = L\"Py (eV)\", xlabel = L\"Px (eV)\",zlabel = L\"Pz (eV)\",\n",
    "limits =(-1500,1500,-1500,1500,-1500,1500), \n",
    "yticklabelsize=22,xticklabelsize=22,zticklabelsize=22,\n",
    "xgridvisible=true, ygridvisible=true,zgridvisible =false,\n",
    "xticks = -1200:600:1200,yticks = -1200:600:1200,zticks =-1200:600:1200,\n",
    "perspectiveness = 0.3,title=\"Momentum of particles\",titlesize=50,viewmode=:fit,\n",
    "xlabeloffset=60,ylabeloffset=60\n",
    "\n",
    ")\n",
    "\n",
    "for i in 1:1:100\n",
    "    E0,θ,ϕ =1e6,rand()*π,rand()*2*π\n",
    "    P_initial = sqrt.(2 .* E0) .* unit_vector(θ,ϕ)\n",
    "    # P_initial = sqrt.(2 .* E0) .* Array([0,0,1])\n",
    "    E,Px,Py,Pz,collision_number,thermalization_number = multiple_collision_random(P_initial,E0,10)\n",
    "    trans = rand()\n",
    "    color = RGBf(rand(3)...)\n",
    "    meshscatter!(Px,Py,Pz; markersize=log2.(E[end])*3,shading = true,transparacy = true,color=(:black,trans))\n",
    "    lines!(Px,Py,Pz,color = (:black,trans),linewidth=log2.(E[end])/3.)\n",
    "\n",
    "end\n",
    "\n",
    "ax2 = Axis3(f[1, 2], aspect = (1,1,1),\n",
    "protrusions = (50, 50, 50, 50),\n",
    "xlabelsize=36, ylabelsize=36,zlabelsize=36,\n",
    "ylabel = L\"Py (eV)\", xlabel = L\"Px (eV)\",zlabel = L\"Pz (eV)\",\n",
    "limits =(-1500,1500,-1500,1500,-1500,1500), \n",
    "yticklabelsize=22,xticklabelsize=22,zticklabelsize=22,\n",
    "xgridvisible=true, ygridvisible=true,zgridvisible =false,\n",
    "xticks = -1200:600:1200,yticks = -1200:600:1200,zticks =-1200:600:1200,\n",
    "perspectiveness = 0.3,title=\"Momentum of particles\",titlesize=50,viewmode=:fit,\n",
    "xlabeloffset=60,ylabeloffset=60\n",
    "\n",
    ")\n",
    "f\n"
   ]
  },
  {
   "cell_type": "code",
   "execution_count": null,
   "metadata": {},
   "outputs": [],
   "source": [
    "E0_list,E1_list,E2_list,E3_list,E4_list,E5_list = Vector{Float64}(),Vector{Float64}(),Vector{Float64}(),Vector{Float64}(),Vector{Float64}(),Vector{Float64}()\n",
    "E6_list,E7_list,E8_list,E9_list,E10_list,E11_list = Vector{Float64}(),Vector{Float64}(),Vector{Float64}(),Vector{Float64}(),Vector{Float64}(),Vector{Float64}()\n",
    "E12_list,E13_list,E14_list,E15_list,E16_list,E17_list = Vector{Float64}(),Vector{Float64}(),Vector{Float64}(),Vector{Float64}(),Vector{Float64}(),Vector{Float64}()\n",
    "E18_list,E19_list,E20_list,E21_list,E22_list,E23_list = Vector{Float64}(),Vector{Float64}(),Vector{Float64}(),Vector{Float64}(),Vector{Float64}(),Vector{Float64}()\n",
    "E24_list,E25_list,E26_list,E27_list,E28_list,E29_list = Vector{Float64}(),Vector{Float64}(),Vector{Float64}(),Vector{Float64}(),Vector{Float64}(),Vector{Float64}()\n",
    "E30_list,E35_list,E40_list = Vector{Float64}(),Vector{Float64}(),Vector{Float64}()\n",
    "E45_list,E50_list,E60_list = Vector{Float64}(),Vector{Float64}(),Vector{Float64}()\n",
    "E70_list,E80_list,E90_list = Vector{Float64}(),Vector{Float64}(),Vector{Float64}()\n",
    "E100_list,E150_list,E200_list = Vector{Float64}(),Vector{Float64}(),Vector{Float64}()\n",
    "\n",
    "for i in 1:1:100000\n",
    "    push!(E0_list,Etotal[i][1])\n",
    "    push!(E1_list,Etotal[i][2])\n",
    "    push!(E2_list,Etotal[i][3])\n",
    "    push!(E3_list,Etotal[i][4])\n",
    "    push!(E4_list,Etotal[i][5])\n",
    "    push!(E5_list,Etotal[i][6])\n",
    "    push!(E6_list,Etotal[i][7])\n",
    "    push!(E7_list,Etotal[i][8])\n",
    "    push!(E8_list,Etotal[i][9])\n",
    "    push!(E9_list,Etotal[i][10])\n",
    "    push!(E10_list,Etotal[i][11])\n",
    "    push!(E11_list,Etotal[i][12])\n",
    "    push!(E12_list,Etotal[i][13])\n",
    "    push!(E13_list,Etotal[i][14])\n",
    "    push!(E14_list,Etotal[i][15])\n",
    "    push!(E15_list,Etotal[i][16])\n",
    "    push!(E16_list,Etotal[i][17])\n",
    "    push!(E17_list,Etotal[i][18])\n",
    "    push!(E18_list,Etotal[i][19])\n",
    "    push!(E19_list,Etotal[i][20])\n",
    "    push!(E20_list,Etotal[i][21])\n",
    "    push!(E21_list,Etotal[i][22])\n",
    "    push!(E22_list,Etotal[i][23])\n",
    "    push!(E23_list,Etotal[i][24])\n",
    "    push!(E24_list,Etotal[i][25])\n",
    "    push!(E25_list,Etotal[i][26])\n",
    "    push!(E26_list,Etotal[i][27])\n",
    "    push!(E27_list,Etotal[i][28])\n",
    "    push!(E28_list,Etotal[i][29])\n",
    "    push!(E29_list,Etotal[i][30])\n",
    "    push!(E30_list,Etotal[i][31])\n",
    "    push!(E35_list,Etotal[i][36])\n",
    "\n",
    "    push!(E40_list,Etotal[i][41])\n",
    "    push!(E45_list,Etotal[i][46])\n",
    "    push!(E50_list,Etotal[i][51])\n",
    "    push!(E60_list,Etotal[i][61])\n",
    "    push!(E70_list,Etotal[i][71])\n",
    "    push!(E80_list,Etotal[i][81])\n",
    "    push!(E90_list,Etotal[i][91])\n",
    "    push!(E100_list,Etotal[i][101])\n",
    "    push!(E150_list,Etotal[i][151])\n",
    "    push!(E200_list,Etotal[i][201])\n",
    "\n",
    "end\n"
   ]
  },
  {
   "cell_type": "code",
   "execution_count": null,
   "metadata": {},
   "outputs": [],
   "source": [
    "using SpecialFunctions\n",
    "\n",
    "function LogNormal(x,μ,σ,A)\n",
    "    p = (A ./ (σ .* x .* √(2π))).*exp.(-1 .* (log.(x) .- μ).^2 ./ (2σ.^2))\n",
    "    return p\n",
    "end\n",
    "\n",
    "function Normal(x,μ,σ,A)\n",
    "    p = (A ./ (σ .* √(2π))).*exp.(-1 .* (x .- μ).^2 ./ (2σ.^2))\n",
    "    return p\n",
    "end\n",
    "\n",
    "function Poisson(x,λ)\n",
    "    p = λ .^ x .* exp.( .- λ) ./ factorial.(x)\n",
    "    return p\n",
    "end\n",
    "\n",
    "fig = Figure(resolution = (1200, 600))\n",
    "x = logrange(-40,6,1001)\n",
    "ax = Axis(fig[1, 1], \n",
    "ylabel = L\"P(E_n/E_{n,0})\", xlabel = L\"E_n/E_{n,0}\",\n",
    "# limits =(0, 1e6,0,5e5), \n",
    "# xscale=log10,\n",
    "# yscale=log10\n",
    "\n",
    ")\n",
    "# hist!(E40_list[1:1000000]; bins =logrange(-30,6,101),linewidth=3,density = true)\n",
    "# lines!(x, LogNormal(x,59,10,0.6*1e10),color=\"black\")\n",
    "\n",
    "fig = Figure(resolution = (800, 600))\n",
    "x = range(-100,250,1001)\n",
    "ax = Axis(fig[1:3, 1:2], \n",
    "ylabel = L\"P(-Log(E_n/E_{n,0}))\", xlabel = L\"-Log(E_n/E_{n,0})\",\n",
    "# limits =(-20, 250,0,.12), \n",
    "# xscale=log10,\n",
    "# yscale=log10\n",
    "\n",
    "\n",
    ")\n",
    "# hist!(log.(E5_list[1:100000]./ E0); bins =1001,linewidth=3,normalization = :pdf,label = L\"N=5\")\n",
    "# hist!(log.(E10_list[1:100000]); bins =1001,linewidth=3,normalization = :pdf,label = L\"N=10\")\n",
    "# hist!(log.(E20_list[1:100000]./ E0); bins =1001,linewidth=3,normalization = :pdf,label = L\"N=20\")\n",
    "# hist!(.-log.(E30_list[1:1000000]); bins =1001,linewidth=3,normalization = :pdf,label = L\"30 Collisions\")\n",
    "# hist!(.-log.(E40_list[1:100000]./ E0); bins =1001,linewidth=3,normalization = :pdf,label = L\"N=40\")\n",
    "# hist!(log.(E60_list[1:100000]); bins =1001,linewidth=3,normalization = :pdf,label = L\"60 Collisions\")\n",
    "# hist!(.-log.(E80_list[1:100000]./ E0); bins =1001,linewidth=3,normalization = :pdf,label = L\"N=80\")\n",
    "# hist!(.-log.(E100_list[1:1000000]); bins =1001,linewidth=3,normalization = :pdf,label = L\"100 Collisions\")\n",
    "# hist!(.-log.(E150_list[1:100000]./ E0); bins =1001,linewidth=3,normalization = :pdf,label = L\"N=150\")\n",
    "hist!(.-log.(E200_list[1:1000000]); bins =1001,linewidth=3,normalization = :pdf,label = L\"200 Collisions\")\n",
    "\n",
    "# lines!(x, Normal(x,-8.8 .+ 13.816,3.5,1),color=\"black\")\n",
    "# lines!(x, Normal(x,-2,5.5,1),color=\"black\")\n",
    "# lines!(x, Normal(x,12.5 .+ 13.816,8,1),color=\"black\")\n",
    "# lines!(x, Normal(x,26.,10,1),color=\"black\")\n",
    "# lines!(x, Normal(x,40 .+ 13.816,11.4,1),color=\"black\")\n",
    "\n",
    "# lines!(x, Normal(x,67,13.8,1),color=\"black\")\n",
    "# lines!(x, Normal(x,95 .+ 13.816,16,1),color=\"black\")\n",
    "# lines!(x, Normal(x,123,18,1),color=\"black\")\n",
    "# lines!(x, Normal(x,192 .+ 13.816,22,1),color=\"black\")\n",
    "# lines!(x, Normal(x,262,25,1),color=\"black\")\n",
    "\n",
    "axislegend(\"N=#collisions\",position = :rt, bgcolor = (:grey90, 0.55));\n",
    "\n",
    "ax = Axis(fig[2, 3], \n",
    "ylabel = L\"E[-log(E_n/E_0)]\", xlabel = L\"N\",\n",
    "limits =(0,220,0,300), \n",
    ")\n",
    "scatter!(Array([5,10,20,30,40,60,80,100,150,200]),Array([-8,-2,12.5,26,40,67,95,123,192,262]) .+ 13.816,strokecolor =:black,color=:gray,strokewidth=2)\n",
    "\n",
    "ax = Axis(fig[3, 3], \n",
    "ylabel = L\"Var[-log(E_n/E_0)]\", xlabel = L\"N\",\n",
    "limits =(0,220,0,650), \n",
    "yticks=0.:250:500,\n",
    "\n",
    ")\n",
    "scatter!(Array([5,10,20,30,40,60,80,100,150,200]),Array([3.5,5.5,8,10,11.4,13.8,16.1,18,22,25]).^2,strokecolor =:black,color=:gray,strokewidth=2)\n",
    "\n",
    "# x = range(0,1,1001)\n",
    "# ax = Axis(fig[1, 3], \n",
    "# ylabel = L\"P(E_n/E_{n,0})\", xlabel = L\"E_n/E_{n,0}\",\n",
    "# limits =(0, 1,0.,5), \n",
    "# xticks = 0:2:10,\n",
    "\n",
    "\n",
    "\n",
    "# )\n",
    "# hist!((E1_list[1:100000] ./ E0); bins =1001,linewidth=3,normalization = :pdf,label = L\"N=1\")\n",
    "# hist!((E2_list[1:100000] ./ E0); bins =1001,linewidth=3,normalization = :pdf,label = L\"N=2\")\n",
    "# hist!((E5_list[1:1000000] ./ E0); bins =1001,linewidth=3,normalization = :pdf,label = L\"N=2\")\n",
    "\n",
    "# lines!(x,   2 .* sqrt.(x) ./ (π.* sqrt.(x .* ( 1 .- x))),color=\"black\")\n",
    "# lines!(x,  0.025 ./ x.^(3/2),color=\"black\")\n",
    "# lines!(x,1 ./ (2*π*sqrt.((sqrt.(x) .- x) .* x)),color=\"black\")\n",
    "# lines!(x,1 ./ (π .* (sqrt.(x .* (1 .- x)))),linestyle = :dash,linewidth =2)\n",
    "# lines!(x,2 .* ellipk.(1 .- x) ./ (π.^2 .* sqrt.(x)),linestyle=:dash,linewidth=2)\n",
    "# axislegend(position = :rt, bgcolor = (:grey90, 0.55));\n",
    "\n",
    "\n",
    "fig\n",
    "\n",
    "# save(\"Statistics_no_thermal.svg\", fig)"
   ]
  },
  {
   "cell_type": "code",
   "execution_count": null,
   "metadata": {},
   "outputs": [],
   "source": [
    "function LogNormal(x,μ,σ,A)\n",
    "    p = (A ./ (σ .* x .* √(2π))).*exp.(-1 .* (log.(x) .- μ).^2 ./ (2σ.^2))\n",
    "    return p\n",
    "end\n",
    "\n",
    "function Normal(x,μ,σ,A)\n",
    "    p = (A ./ (σ .* √(2π))).*exp.(-1 .* (x .- μ).^2 ./ (2σ.^2))\n",
    "    return p\n",
    "end\n",
    "\n",
    "function Poisson(x,λ)\n",
    "    p = λ .^ x .* exp.( .- λ) ./ factorial.(x)\n",
    "    return p\n",
    "end\n",
    "\n",
    "fig = Figure(resolution = (1200, 600))\n",
    "# x = logrange(-4,1,1001)\n",
    "ax = Axis(fig[1, 1], \n",
    "ylabel = L\"P(E_n/E_{n,0})\", xlabel = L\"E_n/E_{n,0}\",\n",
    "# limits =(0, 1e6,0,5e5), \n",
    "# xscale=log10,\n",
    "# yscale=log10\n",
    "\n",
    ")\n",
    "# hist!(E40_list[1:1000000]; bins =logrange(-30,6,101),linewidth=3,density = true)\n",
    "# lines!(x, LogNormal(x,59,10,0.6*1e10),color=\"black\")\n",
    "\n",
    "fig = Figure(resolution = (500, 500))\n",
    "x = range(0,1,1001)\n",
    "ax = Axis(fig[1:2, 1:2], \n",
    "ylabel = L\"P(Log(E_n/E_{n,0}))\", xlabel = L\"Log(E_n/E_{n,0})\",\n",
    "limits =(0, 1,0.,5), \n",
    "# xscale=log10,\n",
    "# yscale=log10\n",
    "\n",
    "\n",
    ")\n",
    "hist!((E1_list[1:1000000] ./ E0); bins =1001,linewidth=3,normalization = :pdf,label = L\"N=1\")\n",
    "hist!((E2_list[1:1000000] ./ E0); bins =1001,linewidth=3,normalization = :pdf,label = L\"N=2\")\n",
    "hist!((E5_list[1:1000000] ./ E0); bins =1001,linewidth=3,normalization = :pdf,label = L\"N=2\")\n",
    "\n",
    "# lines!(x,   2 .* sqrt.(x) ./ (π.* sqrt.(x .* ( 1 .- x))),color=\"black\")\n",
    "# lines!(x,  0.025 ./ x.^(3/2),color=\"black\")\n",
    "# lines!(x,1 ./ (2*π*sqrt.((sqrt.(x) .- x) .* x)),color=\"black\")\n",
    "lines!(x,1 ./ (π .* (sqrt.(x .* (1 .- x)))),color=\"black\")\n",
    "lines!(x,2 .* ellipk.(1 .- x) ./ (π.^2 .* sqrt.(x)),color=\"black\")\n",
    "# lines!(x,2 .* ellipk.(1 .- x) ./ (π.^2 .* sqrt.(x)),color=\"black\")\n",
    "\n",
    "fig"
   ]
  },
  {
   "cell_type": "code",
   "execution_count": null,
   "metadata": {},
   "outputs": [],
   "source": []
  }
 ],
 "metadata": {
  "kernelspec": {
   "display_name": "Julia 1.8.3",
   "language": "julia",
   "name": "julia-1.8"
  },
  "language_info": {
   "file_extension": ".jl",
   "mimetype": "application/julia",
   "name": "julia",
   "version": "1.8.3"
  },
  "orig_nbformat": 4
 },
 "nbformat": 4,
 "nbformat_minor": 2
}
